{
 "cells": [
  {
   "cell_type": "code",
   "execution_count": 2,
   "id": "a831a1e0",
   "metadata": {},
   "outputs": [],
   "source": [
    "import joblib\n",
    "import numpy as np\n",
    "import pandas as pd\n",
    "from gensim.models import KeyedVectors\n",
    "from sklearn.base import BaseEstimator, TransformerMixin\n",
    "\n",
    "from sklearn.decomposition import PCA\n",
    "from sklearn.preprocessing import MultiLabelBinarizer"
   ]
  },
  {
   "cell_type": "code",
   "execution_count": 3,
   "id": "f1315a88",
   "metadata": {},
   "outputs": [],
   "source": [
    "class BestTimeTransformer(BaseEstimator, TransformerMixin):\n",
    "    def __init__(self, col=\"best_time\"):\n",
    "        self.col = col\n",
    "        self.mlb = MultiLabelBinarizer(classes=list(range(1, 13)))\n",
    "        self.pca = PCA(n_components=1)\n",
    "\n",
    "    def fit(self, X, y=None):\n",
    "        X = X.copy()\n",
    "        month_lists = [self._months_to_list(s) for s in X[self.col]]\n",
    "        one_hot = self.mlb.fit_transform(month_lists)\n",
    "        quarters = self._months_to_quarters(one_hot)\n",
    "        self.pca.fit(quarters)\n",
    "        return self\n",
    "\n",
    "    def transform(self, X):\n",
    "        X = X.copy()\n",
    "        month_lists = [self._months_to_list(s) for s in X[self.col]]\n",
    "        one_hot = self.mlb.transform(month_lists)\n",
    "        quarters = self._months_to_quarters(one_hot)\n",
    "        X[self.col] = self.pca.transform(quarters)\n",
    "        return X\n",
    "\n",
    "    def _months_to_list(self, s):\n",
    "        mapping = {\"Jan\":1, \"Feb\":2, \"Mar\":3, \"Apr\":4, \"May\":5, \"Jun\":6,\n",
    "                   \"Jul\":7, \"Aug\":8, \"Sep\":9, \"Oct\":10, \"Nov\":11, \"Dec\":12}\n",
    "        return [mapping[m.strip()] for m in s.split(\",\") if m.strip() in mapping]\n",
    "\n",
    "    def _months_to_quarters(self, one_hot):\n",
    "        Q1 = one_hot[:, [0,1,2]].sum(axis=1)\n",
    "        Q2 = one_hot[:, [3,4,5]].sum(axis=1)\n",
    "        Q3 = one_hot[:, [6,7,8]].sum(axis=1)\n",
    "        Q4 = one_hot[:, [9,10,11]].sum(axis=1)\n",
    "        return np.vstack([Q1, Q2, Q3, Q4]).T"
   ]
  },
  {
   "cell_type": "code",
   "execution_count": 4,
   "id": "e4dfb977",
   "metadata": {},
   "outputs": [],
   "source": [
    "country_transformer = joblib.load(\"country_transformer.pkl\")\n",
    "time_transformer = joblib.load(\"time_transformer.pkl\")\n",
    "scaler = joblib.load(\"scaler.pkl\")\n",
    "kmeans = joblib.load(\"kmeans.pkl\")\n",
    "results_df = joblib.load(\"results_df.pkl\")\n",
    "glove_model = KeyedVectors.load(\"glove_vectors.gensim\", mmap='r')"
   ]
  },
  {
   "cell_type": "code",
   "execution_count": 5,
   "id": "153608c4",
   "metadata": {},
   "outputs": [],
   "source": [
    "def tokens_to_glove_vector(tokens, model, vector_size=50):\n",
    "    \"\"\"Convert list of tokens to average GloVe vector.\"\"\"\n",
    "    vectors = [model[word] for word in tokens if word in model]\n",
    "    if not vectors:\n",
    "        return np.zeros(vector_size)\n",
    "    return np.mean(vectors, axis=0)"
   ]
  },
  {
   "cell_type": "code",
   "execution_count": 6,
   "id": "e6a84048",
   "metadata": {},
   "outputs": [],
   "source": [
    "def predict_destination(city, country, months, category_tokens,\n",
    "                        country_transformer, time_transformer,\n",
    "                        glove_model, scaler, kmeans, results_df):\n",
    "    \n",
    "\n",
    "    # 1. Country PCA transform → shape (1, 5)\n",
    "    country_vec = country_transformer.transform(\n",
    "        pd.DataFrame({\"Country\": [country]})\n",
    "    )\n",
    "\n",
    "    # 2. Time PCA transform → shape (1, 1)\n",
    "    time_vec = time_transformer.transform(\n",
    "        pd.DataFrame({\"Best_Time_to_Travel\": [months]})\n",
    "    )\n",
    "\n",
    "    # 3. GloVe category → shape (1, 50)\n",
    "    glove_vec = tokens_to_glove_vector(category_tokens, glove_model, 50).reshape(1, -1)\n",
    "\n",
    "    # 4. Combine into one row → shape (1, 56)\n",
    "    full_features = np.hstack([time_vec,country_vec,glove_vec])\n",
    "\n",
    "    # 5. Scale and predict cluster\n",
    "    scaled = scaler.transform(full_features)\n",
    "    cluster = int(kmeans.predict(scaled)[0])\n",
    "\n",
    "    # 6. Find similar cities in results_df\n",
    "    matches = results_df[results_df[\"Cluster\"] == cluster][[\"City\", \"Category\"]].reset_index(drop=True)\n",
    "\n",
    "    return {\n",
    "        \"predicted_cluster\": cluster,\n",
    "        \"similar_cities\": matches\n",
    "    }"
   ]
  },
  {
   "cell_type": "code",
   "execution_count": 7,
   "id": "2e3b5dbc",
   "metadata": {},
   "outputs": [
    {
     "name": "stderr",
     "output_type": "stream",
     "text": [
      "c:\\Users\\OMEN\\anaconda3\\envs\\gensim-env\\lib\\site-packages\\sklearn\\utils\\validation.py:2749: UserWarning: X does not have valid feature names, but StandardScaler was fitted with feature names\n",
      "  warnings.warn(\n",
      "c:\\Users\\OMEN\\anaconda3\\envs\\gensim-env\\lib\\site-packages\\sklearn\\utils\\validation.py:2749: UserWarning: X does not have valid feature names, but KMeans was fitted with feature names\n",
      "  warnings.warn(\n"
     ]
    },
    {
     "name": "stdout",
     "output_type": "stream",
     "text": [
      "{'predicted_cluster': 3, 'similar_cities':          City                                           Category\n",
      "0       Tokyo  culture, food, technology, shopping, temples, ...\n",
      "1       Seoul  culture, food, K-pop, shopping, history, palac...\n",
      "2   Hong Kong  skyline, shopping, food, dim sum, hiking, fina...\n",
      "3     Bangkok  culture, temples, food, street markets, nightl...\n",
      "4   Singapore  food, shopping, gardens, modern architecture, ...\n",
      "5    Istanbul  history, culture, mosques, bazaars, food, arch...\n",
      "6       Osaka  food (street food), nightlife, modern culture,...\n",
      "7       Busan  beach, port city, seafood markets, temples, cu...\n",
      "8      Taipei  food (night markets), technology, culture, tem...\n",
      "9      Manila  history (Intramuros), culture, food, gateway t...\n",
      "10      Seoul  culture, food, K-pop, shopping, history, palac...\n",
      "11  Singapore  food, shopping, gardens, modern architecture, ...\n",
      "12     Indore       food (street food capital), history, palaces}\n"
     ]
    }
   ],
   "source": [
    "result = predict_destination(\n",
    "    city=\"Kyoto\",\n",
    "    country=\"Japan\",\n",
    "    months=\"Mar, Apr, May, Oct, Nov\",\n",
    "    category_tokens=[ \"food\"],\n",
    "    country_transformer=country_transformer,\n",
    "    time_transformer=time_transformer,\n",
    "    glove_model=glove_model,\n",
    "    scaler=scaler,\n",
    "    kmeans=kmeans,\n",
    "    results_df=results_df\n",
    ")\n",
    "\n",
    "print(result)\n"
   ]
  },
  {
   "cell_type": "code",
   "execution_count": null,
   "id": "a7ad2280",
   "metadata": {},
   "outputs": [],
   "source": []
  },
  {
   "cell_type": "code",
   "execution_count": null,
   "id": "0145a2e8",
   "metadata": {},
   "outputs": [],
   "source": []
  },
  {
   "cell_type": "code",
   "execution_count": null,
   "id": "5fa82ad8",
   "metadata": {},
   "outputs": [],
   "source": []
  },
  {
   "cell_type": "code",
   "execution_count": null,
   "id": "ec12e593",
   "metadata": {},
   "outputs": [],
   "source": []
  },
  {
   "cell_type": "code",
   "execution_count": null,
   "id": "5423bbb7",
   "metadata": {},
   "outputs": [],
   "source": []
  },
  {
   "cell_type": "code",
   "execution_count": null,
   "id": "4b0b80eb",
   "metadata": {},
   "outputs": [],
   "source": []
  }
 ],
 "metadata": {
  "kernelspec": {
   "display_name": "gensim-env",
   "language": "python",
   "name": "python3"
  },
  "language_info": {
   "codemirror_mode": {
    "name": "ipython",
    "version": 3
   },
   "file_extension": ".py",
   "mimetype": "text/x-python",
   "name": "python",
   "nbconvert_exporter": "python",
   "pygments_lexer": "ipython3",
   "version": "3.10.18"
  }
 },
 "nbformat": 4,
 "nbformat_minor": 5
}
