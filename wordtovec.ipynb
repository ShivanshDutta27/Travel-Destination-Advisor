{
 "cells": [
  {
   "cell_type": "code",
   "execution_count": 5,
   "id": "436d09e1",
   "metadata": {},
   "outputs": [],
   "source": [
    "from gensim.models import Word2Vec\n",
    "import pandas as pd\n",
    "import re"
   ]
  },
  {
   "cell_type": "code",
   "execution_count": 3,
   "id": "fd7edfb0",
   "metadata": {},
   "outputs": [],
   "source": [
    "\n",
    "df=pd.read_excel('travel_destinations.xlsx')\n"
   ]
  },
  {
   "cell_type": "code",
   "execution_count": 6,
   "id": "2963f4e1",
   "metadata": {},
   "outputs": [],
   "source": [
    "def preprocess(text):\n",
    "    text = text.lower()  \n",
    "    text = re.sub(r'[,\\(\\)]', ' ', text)\n",
    "    tokens = text.split()\n",
    "    return tokens"
   ]
  },
  {
   "cell_type": "code",
   "execution_count": 7,
   "id": "3aab015c",
   "metadata": {},
   "outputs": [],
   "source": [
    "df['tokens']=df['Category'].apply(preprocess)\n",
    "df.drop(columns=['Category'], inplace=True)"
   ]
  },
  {
   "cell_type": "code",
   "execution_count": 25,
   "id": "74884ccf",
   "metadata": {},
   "outputs": [
    {
     "name": "stdout",
     "output_type": "stream",
     "text": [
      "Loading pre-trained GloVe model...\n",
      "Model loaded successfully!\n"
     ]
    }
   ],
   "source": [
    "import gensim.downloader as api\n",
    "\n",
    "# This will download the model (the first time you run it). \n",
    "# It may take a few minutes.\n",
    "print(\"Loading pre-trained GloVe model...\")\n",
    "glove_model = api.load('glove-wiki-gigaword-100')\n",
    "print(\"Model loaded successfully!\")"
   ]
  },
  {
   "cell_type": "code",
   "execution_count": 16,
   "id": "22a96aa4",
   "metadata": {},
   "outputs": [
    {
     "name": "stdout",
     "output_type": "stream",
     "text": [
      "Created a vocabulary set with 588 unique words.\n"
     ]
    }
   ],
   "source": [
    "your_vocab = set(word for token_list in df['tokens'] for word in token_list)\n",
    "\n",
    "print(f\"Created a vocabulary set with {len(your_vocab)} unique words.\")"
   ]
  },
  {
   "cell_type": "code",
   "execution_count": null,
   "id": "27a79303",
   "metadata": {},
   "outputs": [],
   "source": [
    "\n",
    "\n",
    "def find_similar_in_my_vocab(word, model, my_vocabulary, topn=10):\n",
    "    \n",
    "    # Get a large list of similar words from the full GloVe model\n",
    "    # We get more than we need (e.g., 500) because many might not be in our vocab\n",
    "    all_similar = model.most_similar(word, topn=500)\n",
    "    \n",
    "    # Filter this list\n",
    "    my_similar_words = []\n",
    "    for similar_word, score in all_similar:\n",
    "        if similar_word in my_vocabulary:\n",
    "            my_similar_words.append((similar_word, score))\n",
    "            \n",
    "        # Stop when we have found enough results\n",
    "        if len(my_similar_words) >= topn:\n",
    "            break\n",
    "\n",
    "            \n",
    "    return my_similar_words"
   ]
  },
  {
   "cell_type": "code",
   "execution_count": 23,
   "id": "5fcf059f",
   "metadata": {},
   "outputs": [
    {
     "name": "stdout",
     "output_type": "stream",
     "text": [
      "\n",
      "Filtered results for 'tech' (from your vocab only):\n",
      "[('technology', 0.7489414215087891), ('industrial', 0.5782405138015747), ('industry', 0.526825487613678), ('quarter', 0.4904780685901642), ('game', 0.4885205030441284)]\n"
     ]
    }
   ],
   "source": [
    "test_word = 'tech'  # Replace with any word you want to test\n",
    "print(f\"\\nFiltered results for '{test_word}' (from your vocab only):\")\n",
    "# Assuming 'your_vocab' was created in Step 1.1\n",
    "filtered_results = find_similar_in_my_vocab(test_word, glove_model, your_vocab, topn=5)\n",
    "print(filtered_results)\n"
   ]
  },
  {
   "cell_type": "code",
   "execution_count": null,
   "id": "e1fd907a",
   "metadata": {},
   "outputs": [],
   "source": []
  },
  {
   "cell_type": "code",
   "execution_count": null,
   "id": "2ef813ee",
   "metadata": {},
   "outputs": [],
   "source": []
  },
  {
   "cell_type": "code",
   "execution_count": null,
   "id": "1e60c942",
   "metadata": {},
   "outputs": [],
   "source": []
  }
 ],
 "metadata": {
  "kernelspec": {
   "display_name": "gensim-env",
   "language": "python",
   "name": "python3"
  },
  "language_info": {
   "codemirror_mode": {
    "name": "ipython",
    "version": 3
   },
   "file_extension": ".py",
   "mimetype": "text/x-python",
   "name": "python",
   "nbconvert_exporter": "python",
   "pygments_lexer": "ipython3",
   "version": "3.10.18"
  }
 },
 "nbformat": 4,
 "nbformat_minor": 5
}
